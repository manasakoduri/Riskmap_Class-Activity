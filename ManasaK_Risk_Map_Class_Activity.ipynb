{
  "nbformat": 4,
  "nbformat_minor": 0,
  "metadata": {
    "colab": {
      "name": "ManasaK_Risk Map_Class Activity.ipynb",
      "provenance": [],
      "collapsed_sections": [],
      "authorship_tag": "ABX9TyN/6oAqAnRslhmfC8FbF14h",
      "include_colab_link": true
    },
    "kernelspec": {
      "name": "python3",
      "display_name": "Python 3"
    },
    "language_info": {
      "name": "python"
    }
  },
  "cells": [
    {
      "cell_type": "markdown",
      "metadata": {
        "id": "view-in-github",
        "colab_type": "text"
      },
      "source": [
        "<a href=\"https://colab.research.google.com/github/manasakoduri/Riskmap_Class-Activity/blob/main/ManasaK_Risk_Map_Class_Activity.ipynb\" target=\"_parent\"><img src=\"https://colab.research.google.com/assets/colab-badge.svg\" alt=\"Open In Colab\"/></a>"
      ]
    },
    {
      "cell_type": "code",
      "execution_count": 39,
      "metadata": {
        "id": "k2GeD8AFHt_Y"
      },
      "outputs": [],
      "source": [
        "import seaborn as sns\n",
        "import pandas as pd\n",
        "import numpy as np\n",
        "\n",
        "riskDF= pd.DataFrame(columns=['risk','likelihood','impact','score'])\n"
      ]
    },
    {
      "cell_type": "code",
      "source": [
        "riskDF['risk']= ['users','team','budget','security']"
      ],
      "metadata": {
        "id": "Hs_uMeCWdFeG"
      },
      "execution_count": 40,
      "outputs": []
    },
    {
      "cell_type": "code",
      "source": [
        "riskDF['likelihood']=[0.2,0.4,0.6,0.8]"
      ],
      "metadata": {
        "id": "S6JAPG72d5lj"
      },
      "execution_count": 41,
      "outputs": []
    },
    {
      "cell_type": "code",
      "source": [
        "riskDF['impact']=[2,4,6,8]"
      ],
      "metadata": {
        "id": "Ux-WTT8kd8BW"
      },
      "execution_count": 42,
      "outputs": []
    },
    {
      "cell_type": "code",
      "source": [
        "riskDF['score']=riskDF['impact']*riskDF['likelihood']"
      ],
      "metadata": {
        "id": "Q1zK2J1ed9oH"
      },
      "execution_count": 43,
      "outputs": []
    },
    {
      "cell_type": "code",
      "source": [
        "scoresPivot=riskDF.pivot('impact','likelihood','score')\n",
        "\n",
        "print(scoresPivot)\n",
        "\n",
        "labelsPivot=riskDF.pivot('impact','likelihood','risk')\n",
        "\n",
        "print(labelsPivot)"
      ],
      "metadata": {
        "id": "wHFcrwINeBXc",
        "colab": {
          "base_uri": "https://localhost:8080/"
        },
        "outputId": "eb7c21d6-2790-4699-d36f-5fa8aa7735b7"
      },
      "execution_count": 44,
      "outputs": [
        {
          "output_type": "stream",
          "name": "stdout",
          "text": [
            "likelihood  0.2  0.4  0.6  0.8\n",
            "impact                        \n",
            "2           0.4  NaN  NaN  NaN\n",
            "4           NaN  1.6  NaN  NaN\n",
            "6           NaN  NaN  3.6  NaN\n",
            "8           NaN  NaN  NaN  6.4\n",
            "likelihood    0.2   0.4     0.6       0.8\n",
            "impact                                   \n",
            "2           users   NaN     NaN       NaN\n",
            "4             NaN  team     NaN       NaN\n",
            "6             NaN   NaN  budget       NaN\n",
            "8             NaN   NaN     NaN  security\n"
          ]
        }
      ]
    },
    {
      "cell_type": "code",
      "source": [
        "sns.set(rc={'figure.figsize':(8,8)})"
      ],
      "metadata": {
        "id": "8GW24SC7jOJ7"
      },
      "execution_count": 45,
      "outputs": []
    },
    {
      "cell_type": "code",
      "source": [
        "p1=sns.heatmap(scoresPivot, cmap='hot_r', annot=labelsPivot, fmt='')"
      ],
      "metadata": {
        "id": "rT_mUSSceqa-",
        "colab": {
          "base_uri": "https://localhost:8080/",
          "height": 502
        },
        "outputId": "63b8819f-f3df-4dab-ab02-c170af60b396"
      },
      "execution_count": 46,
      "outputs": [
        {
          "output_type": "display_data",
          "data": {
            "text/plain": [
              "<Figure size 576x576 with 2 Axes>"
            ],
            "image/png": "[encoded data removed]"
          },
          "metadata": {}
        }
      ]
    }
  ]
}